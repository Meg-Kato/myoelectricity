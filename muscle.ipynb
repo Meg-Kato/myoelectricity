{
 "cells": [
  {
   "cell_type": "code",
   "execution_count": 179,
   "metadata": {},
   "outputs": [],
   "source": [
    "import os\n",
    "import glob\n",
    "import pandas as pd\n",
    "import numpy as np\n",
    "\n",
    "# datasetsフォルダ内にあるcsvファイルの一覧を取得\n",
    "files1 = glob.glob(\"../../../Desktop/GHELIA/myoelectricity/datasets/inside/muscle*.txt\")\n",
    "files2 = glob.glob(\"../../../Desktop/GHELIA/myoelectricity/datasets/outside/muscle*.txt\")\n",
    "files3 = glob.glob(\"../../../Desktop/GHELIA/myoelectricity/datasets/fist/muscle*.txt\")"
   ]
  },
  {
   "cell_type": "code",
   "execution_count": 180,
   "metadata": {},
   "outputs": [
    {
     "data": {
      "text/plain": [
       "['../../../Desktop/GHELIA/myoelectricity/datasets/inside/muscle18.txt',\n",
       " '../../../Desktop/GHELIA/myoelectricity/datasets/inside/muscle19.txt',\n",
       " '../../../Desktop/GHELIA/myoelectricity/datasets/inside/muscle20.txt',\n",
       " '../../../Desktop/GHELIA/myoelectricity/datasets/inside/muscle1.txt',\n",
       " '../../../Desktop/GHELIA/myoelectricity/datasets/inside/muscle2.txt',\n",
       " '../../../Desktop/GHELIA/myoelectricity/datasets/inside/muscle3.txt',\n",
       " '../../../Desktop/GHELIA/myoelectricity/datasets/inside/muscle7.txt',\n",
       " '../../../Desktop/GHELIA/myoelectricity/datasets/inside/muscle6.txt',\n",
       " '../../../Desktop/GHELIA/myoelectricity/datasets/inside/muscle4.txt',\n",
       " '../../../Desktop/GHELIA/myoelectricity/datasets/inside/muscle5.txt',\n",
       " '../../../Desktop/GHELIA/myoelectricity/datasets/inside/muscle8.txt',\n",
       " '../../../Desktop/GHELIA/myoelectricity/datasets/inside/muscle9.txt',\n",
       " '../../../Desktop/GHELIA/myoelectricity/datasets/inside/muscle11.txt',\n",
       " '../../../Desktop/GHELIA/myoelectricity/datasets/inside/muscle10.txt',\n",
       " '../../../Desktop/GHELIA/myoelectricity/datasets/inside/muscle12.txt',\n",
       " '../../../Desktop/GHELIA/myoelectricity/datasets/inside/muscle13.txt',\n",
       " '../../../Desktop/GHELIA/myoelectricity/datasets/inside/muscle17.txt',\n",
       " '../../../Desktop/GHELIA/myoelectricity/datasets/inside/muscle16.txt',\n",
       " '../../../Desktop/GHELIA/myoelectricity/datasets/inside/muscle14.txt',\n",
       " '../../../Desktop/GHELIA/myoelectricity/datasets/inside/muscle15.txt']"
      ]
     },
     "execution_count": 180,
     "metadata": {},
     "output_type": "execute_result"
    }
   ],
   "source": [
    "files1"
   ]
  },
  {
   "cell_type": "code",
   "execution_count": 181,
   "metadata": {},
   "outputs": [],
   "source": [
    "# def read(x, label):\n",
    "#     f_np = []\n",
    "#     fa2 = []\n",
    "#     f_pre = []\n",
    "#     for i in range (len(x)):\n",
    "#         f = open(x[i])\n",
    "#         f_array = f.read().split()\n",
    "#         f_np = np.append(f_np, f_array)\n",
    "#         for j in range(100):\n",
    "#             fa = f_np[j].split(',')\n",
    "#             fa2 = np.append(fa2, a)\n",
    "#     for k in range(fa2.shape[0]):\n",
    "#         f_pre = np.append(f_pre, float(fa2[k]))\n",
    "#     label = f_pre.reshape(20,100,2)"
   ]
  },
  {
   "cell_type": "code",
   "execution_count": 182,
   "metadata": {},
   "outputs": [],
   "source": [
    "f1_np =[]\n",
    "fa1 = []\n",
    "for i in range(20):\n",
    "    f1 = open(files1[i])\n",
    "    f1_array = f1.read().split()\n",
    "    f1_np = np.append(f1_np, f1_array)\n",
    "    for j in range(100):\n",
    "        a1 = f1_np[j].split(\",\")\n",
    "        fa1 = np.append(fa1, a1)\n",
    "fr1 = []\n",
    "for i in range(fa1.shape[0]):\n",
    "    fr1 = np.append(fr1,float(fa1[i]))\n",
    "inside = fr1.reshape(20,100,2)"
   ]
  },
  {
   "cell_type": "code",
   "execution_count": 183,
   "metadata": {},
   "outputs": [],
   "source": [
    "f2_np =[]\n",
    "fa2 = []\n",
    "for i in range(20):\n",
    "    f2 = open(files2[i])\n",
    "    f2_array = f2.read().split()\n",
    "    f2_np = np.append(f2_np, f2_array)\n",
    "    for j in range(100):\n",
    "        a2 = f2_np[j].split(\",\")\n",
    "        fa2 = np.append(fa2, a2)\n",
    "fr2 = []\n",
    "for i in range(fa2.shape[0]):\n",
    "    fr2 = np.append(fr2,float(fa2[i]))\n",
    "outside = fr2.reshape(20,100,2)"
   ]
  },
  {
   "cell_type": "code",
   "execution_count": 184,
   "metadata": {},
   "outputs": [],
   "source": [
    "f3_np =[]\n",
    "fa3 = []\n",
    "for i in range(20):\n",
    "    f3 = open(files3[i])\n",
    "    f3_array = f3.read().split()\n",
    "    f3_np = np.append(f3_np, f3_array)\n",
    "    for j in range(100):\n",
    "        a3 = f3_np[j].split(\",\")\n",
    "        fa3 = np.append(fa3, a3)\n",
    "fr3 = []\n",
    "for i in range(fa3.shape[0]):\n",
    "    fr3 = np.append(fr3,float(fa3[i]))\n",
    "fist = fr3.reshape(20,100,2)"
   ]
  },
  {
   "cell_type": "code",
   "execution_count": 185,
   "metadata": {},
   "outputs": [
    {
     "data": {
      "text/plain": [
       "3444.0"
      ]
     },
     "execution_count": 185,
     "metadata": {},
     "output_type": "execute_result"
    }
   ],
   "source": [
    "inside[0,99,1]"
   ]
  },
  {
   "cell_type": "code",
   "execution_count": 186,
   "metadata": {},
   "outputs": [],
   "source": [
    "x_train = []\n",
    "for i in range(0,15):\n",
    "    x_train = np.append(x_train, inside[i])\n",
    "    x_train = np.append(x_train, outside[i])\n",
    "    x_train = np.append(x_train, fist[i])\n",
    "x_test = []\n",
    "for j in range(15,20):\n",
    "    x_test = np.append(x_test, inside[j])\n",
    "    x_test = np.append(x_test, outside[j])\n",
    "    x_test = np.append(x_test, fist[j])"
   ]
  },
  {
   "cell_type": "code",
   "execution_count": 187,
   "metadata": {},
   "outputs": [],
   "source": [
    "x_train = x_train.reshape(45,100,2)\n",
    "x_test = x_test.reshape(15,100,2)"
   ]
  },
  {
   "cell_type": "code",
   "execution_count": 239,
   "metadata": {},
   "outputs": [],
   "source": [
    "# y_train = np.array([0,1,2]).repeat(15)\n",
    "# y_test = np.array([0,1,2]).repeat(5)\n",
    "y_train = np.array([0,1,2]*15)\n",
    "y_test = np.array([0,1,2]*5)"
   ]
  },
  {
   "cell_type": "code",
   "execution_count": null,
   "metadata": {},
   "outputs": [],
   "source": []
  },
  {
   "cell_type": "markdown",
   "metadata": {},
   "source": [
    "## Load dataset"
   ]
  },
  {
   "cell_type": "code",
   "execution_count": null,
   "metadata": {},
   "outputs": [],
   "source": [
    "def load_wave_data(filename):\n",
    "    file_path = os.path.join(filename)\n",
    "    x, fs = librosa.load(filename, sr = 100)\n",
    "    return x, fs"
   ]
  },
  {
   "cell_type": "code",
   "execution_count": null,
   "metadata": {},
   "outputs": [],
   "source": [
    "def calculate_melsp(x, n_fft=1024, hop_legth=128):\n",
    "    stft = np.abs(librosa.stft(x, n_fft=n_fft, hop_length=hop_length))**2\n",
    "    log_stft = librosa.power_to_db(stft)\n",
    "    melsp = librosa.feature.melspectrogram(S=log_stft, n_mels=128)\n",
    "    return melsp"
   ]
  },
  {
   "cell_type": "code",
   "execution_count": null,
   "metadata": {},
   "outputs": [],
   "source": [
    "def show_wave(x):\n",
    "    plt.plot(x)\n",
    "    plt.show()"
   ]
  },
  {
   "cell_type": "code",
   "execution_count": null,
   "metadata": {},
   "outputs": [],
   "source": [
    "def show_melsp(melsp, fs):\n",
    "    librosa.display.specshow(melsp, sr=fs)\n",
    "    plt.colorbar()\n",
    "    plt.show()"
   ]
  },
  {
   "cell_type": "code",
   "execution_count": null,
   "metadata": {},
   "outputs": [],
   "source": [
    "x, fs = load_wave_data(files1)\n",
    "melsp = calculate_melsp(x)"
   ]
  },
  {
   "cell_type": "code",
   "execution_count": null,
   "metadata": {},
   "outputs": [],
   "source": []
  },
  {
   "cell_type": "markdown",
   "metadata": {},
   "source": [
    "## Augumentation"
   ]
  },
  {
   "cell_type": "code",
   "execution_count": null,
   "metadata": {},
   "outputs": [],
   "source": [
    "def add_white_noise(x, rate=0.002):\n",
    "    return x + rate*np.random.randn(len(x))"
   ]
  },
  {
   "cell_type": "code",
   "execution_count": null,
   "metadata": {},
   "outputs": [],
   "source": [
    "def shift_sound(x, rate=2):\n",
    "    return np.roll(x, int(len(X)//rate))"
   ]
  },
  {
   "cell_type": "code",
   "execution_count": null,
   "metadata": {},
   "outputs": [],
   "source": [
    "def stretch_sound(x. rate=1.1):\n",
    "    input_length = len(x)\n",
    "    x = librosa.effects.time_stretch(x, rate)\n",
    "    if len(x) > input_length:\n",
    "        return x[:input_length]\n",
    "    else:\n",
    "        return np.pad(x, (0, max(0, input_length - len(x))), 'constant')"
   ]
  },
  {
   "cell_type": "code",
   "execution_count": null,
   "metadata": {},
   "outputs": [],
   "source": []
  },
  {
   "cell_type": "markdown",
   "metadata": {},
   "source": [
    "## FFT"
   ]
  },
  {
   "cell_type": "code",
   "execution_count": 189,
   "metadata": {},
   "outputs": [],
   "source": [
    "import numpy as np\n",
    "from scipy.fftpack import fft\n",
    "import matplotlib.pyplot as plt"
   ]
  },
  {
   "cell_type": "code",
   "execution_count": 235,
   "metadata": {},
   "outputs": [],
   "source": [
    "def wave_plot_fft(f):\n",
    "    N =  100\n",
    "    dt = 0.01\n",
    "    freq = np.linspace(0, 1.0/dt, N)\n",
    "    yf = f/(N/2)\n",
    "    \n",
    "    plt.figure(2)\n",
    "    plt.plot(freq, np.abs(yf))\n",
    "    plt.xlabel('frequency')\n",
    "    plt.ylabel('amplitude')\n",
    "    plt.tight_layout()\n",
    "    plt.show()"
   ]
  },
  {
   "cell_type": "code",
   "execution_count": 191,
   "metadata": {},
   "outputs": [
    {
     "data": {
      "text/plain": [
       "(45, 100, 2)"
      ]
     },
     "execution_count": 191,
     "metadata": {},
     "output_type": "execute_result"
    }
   ],
   "source": [
    "x_train.shape"
   ]
  },
  {
   "cell_type": "code",
   "execution_count": 193,
   "metadata": {},
   "outputs": [],
   "source": [
    "X_train = np.zeros((45,100))\n",
    "for i in range(45):\n",
    "    for j in range(100):\n",
    "        X_train_pre = x_train[i][j][1]\n",
    "#         print(X_train_pre)\n",
    "        X_train[i][j] = X_train_pre\n",
    "\n",
    "X_test = np.zeros((15,100))\n",
    "for i in range(15):\n",
    "    for j in range(100):\n",
    "        X_test_pre = x_test[i][j][1]\n",
    "#         print(X_train_pre)\n",
    "        X_test[i][j] = X_test_pre"
   ]
  },
  {
   "cell_type": "code",
   "execution_count": 194,
   "metadata": {},
   "outputs": [
    {
     "data": {
      "text/plain": [
       "100"
      ]
     },
     "execution_count": 194,
     "metadata": {},
     "output_type": "execute_result"
    }
   ],
   "source": [
    "X_train.shape[1]"
   ]
  },
  {
   "cell_type": "code",
   "execution_count": 238,
   "metadata": {},
   "outputs": [
    {
     "data": {
      "image/png": "[encoded data removed]",
      "text/plain": [
       "<Figure size 432x288 with 1 Axes>"
      ]
     },
     "metadata": {
      "needs_background": "light"
     },
     "output_type": "display_data"
    },
    {
     "data": {
      "image/png": "[encoded data removed]",
      "text/plain": [
       "<Figure size 432x288 with 1 Axes>"
      ]
     },
     "metadata": {
      "needs_background": "light"
     },
     "output_type": "display_data"
    },
    {
     "data": {
      "image/png": "[encoded data removed]",
      "text/plain": [
       "<Figure size 432x288 with 1 Axes>"
      ]
     },
     "metadata": {
      "needs_background": "light"
     },
     "output_type": "display_data"
    }
   ],
   "source": [
    "wave_plot_fft(X_train[0])\n",
    "wave_plot_fft(X_train[3])\n",
    "wave_plot_fft(X_train[6])"
   ]
  },
  {
   "cell_type": "code",
   "execution_count": 196,
   "metadata": {},
   "outputs": [
    {
     "data": {
      "text/plain": [
       "array([1148., 1184., 1134., 1184., 1160., 1242., 1252., 1249., 1214.,\n",
       "       1179., 1190., 1202., 1167., 1209., 1210., 1219., 1232., 1215.,\n",
       "       1206., 1198., 1248., 1203., 1260., 1346., 1323., 1408., 1411.,\n",
       "       1523., 1547., 1635., 1638., 1720., 1816., 1881., 1904., 1898.,\n",
       "       2032., 2010., 1972., 2064., 2108., 2017., 2021., 2007., 2099.,\n",
       "       2082., 2058., 1957., 1949., 1912., 1920., 1865., 1894., 2059.,\n",
       "       2059., 2037., 2032., 2018., 2071., 2147., 2198., 2275., 2299.,\n",
       "       2350., 2375., 2399., 2436., 2492., 2536., 2548., 2624., 2725.,\n",
       "       2724., 2759., 2771., 2811., 3022., 2974., 3088., 3034., 3154.,\n",
       "       3194., 3275., 3314., 3260., 3305., 3488., 3434., 3429., 3452.,\n",
       "       3492., 3576., 3535., 3552., 3472., 3572., 3588., 3480., 3460.,\n",
       "       3444.])"
      ]
     },
     "execution_count": 196,
     "metadata": {},
     "output_type": "execute_result"
    }
   ],
   "source": [
    "X_train[0]"
   ]
  },
  {
   "cell_type": "code",
   "execution_count": 222,
   "metadata": {},
   "outputs": [],
   "source": [
    "x_train_pre = []\n",
    "for i in range(45):\n",
    "    x_train_pre = np.append(x_train_pre,fft(X_train[i]))\n",
    "\n",
    "X_train_fft = x_train_pre.reshape(45,100)\n",
    "x_test_pre = []\n",
    "for i in range(15):\n",
    "    x_test_pre = np.append(x_test_pre,fft(X_test[i]))\n",
    "\n",
    "X_test_fft = x_test_pre.reshape(15,100)"
   ]
  },
  {
   "cell_type": "code",
   "execution_count": 223,
   "metadata": {},
   "outputs": [
    {
     "data": {
      "text/plain": [
       "(45, 100)"
      ]
     },
     "execution_count": 223,
     "metadata": {},
     "output_type": "execute_result"
    }
   ],
   "source": [
    "X_train_fft.shape"
   ]
  },
  {
   "cell_type": "code",
   "execution_count": null,
   "metadata": {},
   "outputs": [],
   "source": []
  },
  {
   "cell_type": "markdown",
   "metadata": {},
   "source": [
    "## convolution1D"
   ]
  },
  {
   "cell_type": "code",
   "execution_count": 141,
   "metadata": {},
   "outputs": [],
   "source": [
    "import keras\n",
    "from keras.models import Model, Sequential\n",
    "from keras.layers import Dense, Dropout, Activation, Flatten\n",
    "from keras.layers import BatchNormalization, Add\n",
    "from keras.layers.convolutional import Conv1D, MaxPooling1D\n",
    "from keras.layers.pooling import MaxPool1D\n",
    "from keras.callbacks import EarlyStopping, ModelCheckpoint"
   ]
  },
  {
   "cell_type": "code",
   "execution_count": 143,
   "metadata": {},
   "outputs": [],
   "source": [
    "batch_size = 64\n",
    "num_classes = 3\n",
    "epochs = 50"
   ]
  },
  {
   "cell_type": "code",
   "execution_count": 224,
   "metadata": {},
   "outputs": [],
   "source": [
    "X_train_tf = np.reshape(X_train_fft, (X_train_fft.shape[0], -1, 1))\n",
    "X_test_tf = np.reshape(X_test_fft, (X_test_fft.shape[0], -1, 1))"
   ]
  },
  {
   "cell_type": "code",
   "execution_count": 248,
   "metadata": {},
   "outputs": [
    {
     "data": {
      "text/plain": [
       "(45, 100, 1)"
      ]
     },
     "execution_count": 248,
     "metadata": {},
     "output_type": "execute_result"
    }
   ],
   "source": [
    "X_train_tf.shape"
   ]
  },
  {
   "cell_type": "code",
   "execution_count": 240,
   "metadata": {},
   "outputs": [],
   "source": [
    "y_train_tf = keras.utils.to_categorical(y_train, num_classes)\n",
    "y_test_tf = keras.utils.to_categorical(y_test, num_classes)"
   ]
  },
  {
   "cell_type": "code",
   "execution_count": 160,
   "metadata": {},
   "outputs": [],
   "source": [
    "model = Sequential()\n",
    "\n",
    "model.add(Conv1D(filters=128, input_shape=(X_train_fft.shape[1],1), kernel_size=2, strides=1, padding='same'))\n",
    "model.add(BatchNormalization())\n",
    "model.add(MaxPool1D(pool_size=2))\n",
    "model.add(Activation('relu'))\n",
    "\n",
    "model.add(Conv1D(filters=128, kernel_size=2, strides=1, padding='same'))\n",
    "model.add(BatchNormalization())\n",
    "model.add(MaxPool1D(pool_size=2))\n",
    "model.add(Activation('relu'))\n",
    "\n",
    "model.add(Conv1D(filters=128, kernel_size=2, strides=1, padding='same'))\n",
    "model.add(BatchNormalization())\n",
    "model.add(MaxPool1D(pool_size=2))\n",
    "model.add(Activation('relu'))\n",
    "\n",
    "model.add(Flatten())\n",
    "model.add(Dense(512))\n",
    "model.add(Activation('relu'))\n",
    "model.add(Dropout(0.5))\n",
    "model.add(Dense(num_classes))\n",
    "model.add(Activation('softmax'))\n",
    "\n",
    "opt = keras.optimizers.rmsprop()\n",
    "model.compile(loss = 'categorical_crossentropy',\n",
    "              optimizer = opt,\n",
    "              metrics = ['accuracy'])"
   ]
  },
  {
   "cell_type": "code",
   "execution_count": 161,
   "metadata": {},
   "outputs": [],
   "source": [
    "es = EarlyStopping(monitor='val_loss', patience=5, verbose=0, mode='min')"
   ]
  },
  {
   "cell_type": "code",
   "execution_count": 244,
   "metadata": {
    "collapsed": true,
    "jupyter": {
     "outputs_hidden": true
    }
   },
   "outputs": [
    {
     "name": "stdout",
     "output_type": "stream",
     "text": [
      "Train on 45 samples, validate on 15 samples\n",
      "Epoch 1/50\n",
      "45/45 [==============================] - 0s 1ms/step - loss: 2.4370e-04 - acc: 1.0000 - val_loss: 0.0125 - val_acc: 1.0000\n",
      "Epoch 2/50\n",
      "45/45 [==============================] - 0s 1ms/step - loss: 0.0010 - acc: 1.0000 - val_loss: 0.0126 - val_acc: 1.0000\n",
      "Epoch 3/50\n",
      "45/45 [==============================] - 0s 1ms/step - loss: 2.0680e-04 - acc: 1.0000 - val_loss: 0.0121 - val_acc: 1.0000\n",
      "Epoch 4/50\n",
      "45/45 [==============================] - 0s 978us/step - loss: 4.8753e-04 - acc: 1.0000 - val_loss: 0.0109 - val_acc: 1.0000\n",
      "Epoch 5/50\n",
      "45/45 [==============================] - 0s 877us/step - loss: 7.0126e-04 - acc: 1.0000 - val_loss: 0.0105 - val_acc: 1.0000\n",
      "Epoch 6/50\n",
      "45/45 [==============================] - 0s 706us/step - loss: 2.8260e-04 - acc: 1.0000 - val_loss: 0.0097 - val_acc: 1.0000\n",
      "Epoch 7/50\n",
      "45/45 [==============================] - 0s 909us/step - loss: 3.7172e-04 - acc: 1.0000 - val_loss: 0.0091 - val_acc: 1.0000\n",
      "Epoch 8/50\n",
      "45/45 [==============================] - 0s 597us/step - loss: 5.7078e-04 - acc: 1.0000 - val_loss: 0.0094 - val_acc: 1.0000\n",
      "Epoch 9/50\n",
      "45/45 [==============================] - 0s 716us/step - loss: 7.1577e-04 - acc: 1.0000 - val_loss: 0.0076 - val_acc: 1.0000\n",
      "Epoch 10/50\n",
      "45/45 [==============================] - 0s 644us/step - loss: 2.5732e-04 - acc: 1.0000 - val_loss: 0.0078 - val_acc: 1.0000\n",
      "Epoch 11/50\n",
      "45/45 [==============================] - 0s 590us/step - loss: 5.1215e-05 - acc: 1.0000 - val_loss: 0.0075 - val_acc: 1.0000\n",
      "Epoch 12/50\n",
      "45/45 [==============================] - 0s 651us/step - loss: 1.6699e-04 - acc: 1.0000 - val_loss: 0.0072 - val_acc: 1.0000\n",
      "Epoch 13/50\n",
      "45/45 [==============================] - 0s 682us/step - loss: 4.1561e-04 - acc: 1.0000 - val_loss: 0.0075 - val_acc: 1.0000\n",
      "Epoch 14/50\n",
      "45/45 [==============================] - 0s 653us/step - loss: 8.4206e-05 - acc: 1.0000 - val_loss: 0.0070 - val_acc: 1.0000\n",
      "Epoch 15/50\n",
      "45/45 [==============================] - 0s 639us/step - loss: 3.6398e-05 - acc: 1.0000 - val_loss: 0.0066 - val_acc: 1.0000\n",
      "Epoch 16/50\n",
      "45/45 [==============================] - 0s 676us/step - loss: 6.9373e-04 - acc: 1.0000 - val_loss: 0.0057 - val_acc: 1.0000\n",
      "Epoch 17/50\n",
      "45/45 [==============================] - 0s 645us/step - loss: 8.5297e-05 - acc: 1.0000 - val_loss: 0.0055 - val_acc: 1.0000\n",
      "Epoch 18/50\n",
      "45/45 [==============================] - 0s 668us/step - loss: 8.9592e-05 - acc: 1.0000 - val_loss: 0.0051 - val_acc: 1.0000\n",
      "Epoch 19/50\n",
      "45/45 [==============================] - 0s 663us/step - loss: 3.1394e-04 - acc: 1.0000 - val_loss: 0.0044 - val_acc: 1.0000\n",
      "Epoch 20/50\n",
      "45/45 [==============================] - 0s 660us/step - loss: 8.2276e-04 - acc: 1.0000 - val_loss: 0.0039 - val_acc: 1.0000\n",
      "Epoch 21/50\n",
      "45/45 [==============================] - 0s 571us/step - loss: 1.7597e-04 - acc: 1.0000 - val_loss: 0.0036 - val_acc: 1.0000\n",
      "Epoch 22/50\n",
      "45/45 [==============================] - 0s 695us/step - loss: 3.6628e-04 - acc: 1.0000 - val_loss: 0.0030 - val_acc: 1.0000\n",
      "Epoch 23/50\n",
      "45/45 [==============================] - 0s 699us/step - loss: 2.0666e-04 - acc: 1.0000 - val_loss: 0.0035 - val_acc: 1.0000\n",
      "Epoch 24/50\n",
      "45/45 [==============================] - 0s 677us/step - loss: 4.8786e-05 - acc: 1.0000 - val_loss: 0.0027 - val_acc: 1.0000\n",
      "Epoch 25/50\n",
      "45/45 [==============================] - 0s 662us/step - loss: 9.9284e-05 - acc: 1.0000 - val_loss: 0.0022 - val_acc: 1.0000\n",
      "Epoch 26/50\n",
      "45/45 [==============================] - 0s 682us/step - loss: 2.1366e-04 - acc: 1.0000 - val_loss: 0.0023 - val_acc: 1.0000\n",
      "Epoch 27/50\n",
      "45/45 [==============================] - 0s 714us/step - loss: 7.3674e-06 - acc: 1.0000 - val_loss: 0.0021 - val_acc: 1.0000\n",
      "Epoch 28/50\n",
      "45/45 [==============================] - 0s 652us/step - loss: 5.4145e-05 - acc: 1.0000 - val_loss: 0.0019 - val_acc: 1.0000\n",
      "Epoch 29/50\n",
      "45/45 [==============================] - 0s 673us/step - loss: 5.5349e-05 - acc: 1.0000 - val_loss: 0.0016 - val_acc: 1.0000\n",
      "Epoch 30/50\n",
      "45/45 [==============================] - 0s 761us/step - loss: 7.7131e-06 - acc: 1.0000 - val_loss: 0.0016 - val_acc: 1.0000\n",
      "Epoch 31/50\n",
      "45/45 [==============================] - 0s 651us/step - loss: 3.1246e-05 - acc: 1.0000 - val_loss: 0.0015 - val_acc: 1.0000\n",
      "Epoch 32/50\n",
      "45/45 [==============================] - 0s 675us/step - loss: 1.5503e-05 - acc: 1.0000 - val_loss: 0.0014 - val_acc: 1.0000\n",
      "Epoch 33/50\n",
      "45/45 [==============================] - 0s 625us/step - loss: 1.4028e-05 - acc: 1.0000 - val_loss: 0.0013 - val_acc: 1.0000\n",
      "Epoch 34/50\n",
      "45/45 [==============================] - 0s 714us/step - loss: 4.3508e-05 - acc: 1.0000 - val_loss: 0.0013 - val_acc: 1.0000\n",
      "Epoch 35/50\n",
      "45/45 [==============================] - 0s 669us/step - loss: 4.5028e-05 - acc: 1.0000 - val_loss: 0.0012 - val_acc: 1.0000\n",
      "Epoch 36/50\n",
      "45/45 [==============================] - 0s 724us/step - loss: 1.2834e-05 - acc: 1.0000 - val_loss: 0.0011 - val_acc: 1.0000\n",
      "Epoch 37/50\n",
      "45/45 [==============================] - 0s 720us/step - loss: 1.5879e-05 - acc: 1.0000 - val_loss: 0.0011 - val_acc: 1.0000\n",
      "Epoch 38/50\n",
      "45/45 [==============================] - 0s 712us/step - loss: 1.5566e-05 - acc: 1.0000 - val_loss: 0.0010 - val_acc: 1.0000\n",
      "Epoch 39/50\n",
      "45/45 [==============================] - 0s 704us/step - loss: 1.5891e-05 - acc: 1.0000 - val_loss: 9.7545e-04 - val_acc: 1.0000\n",
      "Epoch 40/50\n",
      "45/45 [==============================] - 0s 704us/step - loss: 1.0020e-05 - acc: 1.0000 - val_loss: 9.3081e-04 - val_acc: 1.0000\n",
      "Epoch 41/50\n",
      "45/45 [==============================] - 0s 712us/step - loss: 4.9966e-06 - acc: 1.0000 - val_loss: 8.8811e-04 - val_acc: 1.0000\n",
      "Epoch 42/50\n",
      "45/45 [==============================] - 0s 659us/step - loss: 8.6306e-06 - acc: 1.0000 - val_loss: 8.4197e-04 - val_acc: 1.0000\n",
      "Epoch 43/50\n",
      "45/45 [==============================] - 0s 733us/step - loss: 2.1285e-05 - acc: 1.0000 - val_loss: 7.7823e-04 - val_acc: 1.0000\n",
      "Epoch 44/50\n",
      "45/45 [==============================] - 0s 667us/step - loss: 8.2834e-06 - acc: 1.0000 - val_loss: 7.4302e-04 - val_acc: 1.0000\n",
      "Epoch 45/50\n",
      "45/45 [==============================] - 0s 719us/step - loss: 1.5520e-04 - acc: 1.0000 - val_loss: 0.0015 - val_acc: 1.0000\n",
      "Epoch 46/50\n",
      "45/45 [==============================] - 0s 733us/step - loss: 3.7023e-05 - acc: 1.0000 - val_loss: 6.6963e-04 - val_acc: 1.0000\n",
      "Epoch 47/50\n",
      "45/45 [==============================] - 0s 726us/step - loss: 8.2577e-06 - acc: 1.0000 - val_loss: 6.0005e-04 - val_acc: 1.0000\n",
      "Epoch 48/50\n",
      "45/45 [==============================] - 0s 644us/step - loss: 1.1050e-05 - acc: 1.0000 - val_loss: 5.5447e-04 - val_acc: 1.0000\n",
      "Epoch 49/50\n",
      "45/45 [==============================] - 0s 740us/step - loss: 9.0964e-06 - acc: 1.0000 - val_loss: 5.0772e-04 - val_acc: 1.0000\n",
      "Epoch 50/50\n",
      "45/45 [==============================] - 0s 772us/step - loss: 4.6123e-06 - acc: 1.0000 - val_loss: 4.7582e-04 - val_acc: 1.0000\n"
     ]
    }
   ],
   "source": [
    "history_fft = model.fit(X_train_tf, y_train_tf,\n",
    "                       batch_size = batch_size,\n",
    "                       epochs = epochs,\n",
    "                       verbose =1,\n",
    "                       validation_data = (X_test_tf, y_test_tf),\n",
    "                       callbacks = [es])"
   ]
  },
  {
   "cell_type": "code",
   "execution_count": 245,
   "metadata": {},
   "outputs": [
    {
     "name": "stdout",
     "output_type": "stream",
     "text": [
      "Test loss: 0.00047582175466232\n",
      "Test accuracy: 1.0\n"
     ]
    }
   ],
   "source": [
    "score = model.evaluate(X_test_tf, y_test_tf, verbose=0)\n",
    "print('Test loss:', score[0])\n",
    "print('Test accuracy:', score[1])"
   ]
  },
  {
   "cell_type": "code",
   "execution_count": 246,
   "metadata": {},
   "outputs": [
    {
     "data": {
      "image/png": "[encoded data removed]",
      "text/plain": [
       "<Figure size 432x288 with 1 Axes>"
      ]
     },
     "metadata": {
      "needs_background": "light"
     },
     "output_type": "display_data"
    },
    {
     "data": {
      "image/png": "[encoded data removed]",
      "text/plain": [
       "<Figure size 432x288 with 1 Axes>"
      ]
     },
     "metadata": {
      "needs_background": "light"
     },
     "output_type": "display_data"
    }
   ],
   "source": [
    "def plot_history_lost(history):\n",
    "    plt.plot(history.history['loss'], label='loss for training')\n",
    "    plt.plot(history.history['val_loss'], label='loss for validation')\n",
    "    plt.title('model loss')\n",
    "    plt.xlabel('epoch')\n",
    "    plt.ylabel('loss')\n",
    "    plt.legend(loc='best')\n",
    "    plt.show()\n",
    "    \n",
    "def plot_history_acc(history):\n",
    "    plt.plot(history.history['acc'], label='accuracy for training')\n",
    "    plt.plot(history.history['val_acc'], label='accuracy for validation')\n",
    "    plt.title('model accuracy')\n",
    "    plt.xlabel('epoch')\n",
    "    plt.ylabel('accuracy')\n",
    "    plt.legend(loc='best')\n",
    "    plt.ylim([0,1])\n",
    "    plt.show()\n",
    "    \n",
    "plot_history_lost(history_fft)\n",
    "plot_history_acc(history_fft)"
   ]
  },
  {
   "cell_type": "code",
   "execution_count": null,
   "metadata": {},
   "outputs": [],
   "source": []
  }
 ],
 "metadata": {
  "kernelspec": {
   "display_name": "Python 3",
   "language": "python",
   "name": "python3"
  },
  "language_info": {
   "codemirror_mode": {
    "name": "ipython",
    "version": 3
   },
   "file_extension": ".py",
   "mimetype": "text/x-python",
   "name": "python",
   "nbconvert_exporter": "python",
   "pygments_lexer": "ipython3",
   "version": "3.6.1"
  }
 },
 "nbformat": 4,
 "nbformat_minor": 4
}
