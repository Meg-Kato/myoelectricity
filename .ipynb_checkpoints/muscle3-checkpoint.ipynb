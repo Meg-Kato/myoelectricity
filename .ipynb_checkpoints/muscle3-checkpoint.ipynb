{
 "cells": [
  {
   "cell_type": "code",
   "execution_count": 19,
   "metadata": {},
   "outputs": [],
   "source": [
    "import os\n",
    "import glob\n",
    "import pandas as pd\n",
    "import numpy as np\n",
    "\n",
    "# datasetsフォルダ内にあるcsvファイルの一覧を取得\n",
    "files1 = glob.glob(\"../../../Desktop/GHELIA/myoelectricity/datasets3/inside/muscle*.txt\")\n",
    "files2 = glob.glob(\"../../../Desktop/GHELIA/myoelectricity/datasets3/outside/muscle*.txt\")\n",
    "files3 = glob.glob(\"../../../Desktop/GHELIA/myoelectricity/datasets3/fist/muscle*.txt\")"
   ]
  },
  {
   "cell_type": "code",
   "execution_count": 4,
   "metadata": {},
   "outputs": [],
   "source": [
    "f1_np =[]\n",
    "fa1 = []\n",
    "for i in range(100):\n",
    "    f1 = open(files1[i])\n",
    "    f1_array = f1.read().split()\n",
    "    f1_np = np.append(f1_np, f1_array)\n",
    "    for j in range(1000):\n",
    "        a1 = f1_np[j].split(\",\")\n",
    "        fa1 = np.append(fa1, a1)\n",
    "fr1 = []\n",
    "for i in range(fa1.shape[0]):\n",
    "    fr1 = np.append(fr1,float(fa1[i]))\n",
    "inside = fr1.reshape(100,1000,2)"
   ]
  },
  {
   "cell_type": "code",
   "execution_count": 20,
   "metadata": {},
   "outputs": [],
   "source": [
    "f2_np =[]\n",
    "fa2 = []\n",
    "for i in range(100):\n",
    "    f2 = open(files2[i])\n",
    "    f2_array = f2.read().split()\n",
    "    f2_np = np.append(f2_np, f2_array)\n",
    "    for j in range(1000):\n",
    "        a2 = f2_np[j].split(\",\")\n",
    "        fa2 = np.append(fa2, a2)\n",
    "fr2 = []\n",
    "for i in range(fa2.shape[0]):\n",
    "    fr2 = np.append(fr2,float(fa2[i]))"
   ]
  },
  {
   "cell_type": "code",
   "execution_count": 21,
   "metadata": {},
   "outputs": [],
   "source": [
    "outside = fr2.reshape(100,1000,2)"
   ]
  },
  {
   "cell_type": "code",
   "execution_count": 15,
   "metadata": {},
   "outputs": [
    {
     "data": {
      "text/plain": [
       "100"
      ]
     },
     "execution_count": 15,
     "metadata": {},
     "output_type": "execute_result"
    }
   ],
   "source": [
    "len(files3)"
   ]
  },
  {
   "cell_type": "code",
   "execution_count": 35,
   "metadata": {},
   "outputs": [
    {
     "data": {
      "text/plain": [
       "(55200,)"
      ]
     },
     "execution_count": 35,
     "metadata": {},
     "output_type": "execute_result"
    }
   ],
   "source": [
    "f2_np.shape"
   ]
  },
  {
   "cell_type": "code",
   "execution_count": 38,
   "metadata": {
    "collapsed": true,
    "jupyter": {
     "outputs_hidden": true
    }
   },
   "outputs": [
    {
     "name": "stdout",
     "output_type": "stream",
     "text": [
      "<_io.TextIOWrapper name='../../../Desktop/GHELIA/myoelectricity/datasets3/outside/muscle148.txt' mode='r' encoding='UTF-8'>\n",
      "(1000,)\n",
      "<_io.TextIOWrapper name='../../../Desktop/GHELIA/myoelectricity/datasets3/outside/muscle149.txt' mode='r' encoding='UTF-8'>\n",
      "(2000,)\n",
      "<_io.TextIOWrapper name='../../../Desktop/GHELIA/myoelectricity/datasets3/outside/muscle261.txt' mode='r' encoding='UTF-8'>\n",
      "(2100,)\n",
      "<_io.TextIOWrapper name='../../../Desktop/GHELIA/myoelectricity/datasets3/outside/muscle275.txt' mode='r' encoding='UTF-8'>\n",
      "(2200,)\n",
      "<_io.TextIOWrapper name='../../../Desktop/GHELIA/myoelectricity/datasets3/outside/muscle117.txt' mode='r' encoding='UTF-8'>\n",
      "(3200,)\n",
      "<_io.TextIOWrapper name='../../../Desktop/GHELIA/myoelectricity/datasets3/outside/muscle103.txt' mode='r' encoding='UTF-8'>\n",
      "(4200,)\n",
      "<_io.TextIOWrapper name='../../../Desktop/GHELIA/myoelectricity/datasets3/outside/muscle102.txt' mode='r' encoding='UTF-8'>\n",
      "(5200,)\n",
      "<_io.TextIOWrapper name='../../../Desktop/GHELIA/myoelectricity/datasets3/outside/muscle116.txt' mode='r' encoding='UTF-8'>\n",
      "(6200,)\n",
      "<_io.TextIOWrapper name='../../../Desktop/GHELIA/myoelectricity/datasets3/outside/muscle300.txt' mode='r' encoding='UTF-8'>\n",
      "(6300,)\n",
      "<_io.TextIOWrapper name='../../../Desktop/GHELIA/myoelectricity/datasets3/outside/muscle274.txt' mode='r' encoding='UTF-8'>\n",
      "(6400,)\n",
      "<_io.TextIOWrapper name='../../../Desktop/GHELIA/myoelectricity/datasets3/outside/muscle260.txt' mode='r' encoding='UTF-8'>\n",
      "(6500,)\n",
      "<_io.TextIOWrapper name='../../../Desktop/GHELIA/myoelectricity/datasets3/outside/muscle276.txt' mode='r' encoding='UTF-8'>\n",
      "(6600,)\n",
      "<_io.TextIOWrapper name='../../../Desktop/GHELIA/myoelectricity/datasets3/outside/muscle262.txt' mode='r' encoding='UTF-8'>\n",
      "(6700,)\n",
      "<_io.TextIOWrapper name='../../../Desktop/GHELIA/myoelectricity/datasets3/outside/muscle289.txt' mode='r' encoding='UTF-8'>\n",
      "(6800,)\n",
      "<_io.TextIOWrapper name='../../../Desktop/GHELIA/myoelectricity/datasets3/outside/muscle114.txt' mode='r' encoding='UTF-8'>\n",
      "(7800,)\n",
      "<_io.TextIOWrapper name='../../../Desktop/GHELIA/myoelectricity/datasets3/outside/muscle128.txt' mode='r' encoding='UTF-8'>\n",
      "(8800,)\n",
      "<_io.TextIOWrapper name='../../../Desktop/GHELIA/myoelectricity/datasets3/outside/muscle129.txt' mode='r' encoding='UTF-8'>\n",
      "(9800,)\n",
      "<_io.TextIOWrapper name='../../../Desktop/GHELIA/myoelectricity/datasets3/outside/muscle115.txt' mode='r' encoding='UTF-8'>\n",
      "(10800,)\n"
     ]
    },
    {
     "ename": "KeyboardInterrupt",
     "evalue": "",
     "output_type": "error",
     "traceback": [
      "\u001b[0;31m---------------------------------------------------------------------------\u001b[0m",
      "\u001b[0;31mKeyboardInterrupt\u001b[0m                         Traceback (most recent call last)",
      "\u001b[0;32m<ipython-input-38-b4e4c6f29b79>\u001b[0m in \u001b[0;36m<module>\u001b[0;34m\u001b[0m\n\u001b[1;32m      9\u001b[0m     \u001b[0;32mfor\u001b[0m \u001b[0mj\u001b[0m \u001b[0;32min\u001b[0m \u001b[0mrange\u001b[0m\u001b[0;34m(\u001b[0m\u001b[0;36m1000\u001b[0m\u001b[0;34m)\u001b[0m\u001b[0;34m:\u001b[0m\u001b[0;34m\u001b[0m\u001b[0m\n\u001b[1;32m     10\u001b[0m         \u001b[0ma2\u001b[0m \u001b[0;34m=\u001b[0m \u001b[0mf2_np\u001b[0m\u001b[0;34m[\u001b[0m\u001b[0mj\u001b[0m\u001b[0;34m]\u001b[0m\u001b[0;34m.\u001b[0m\u001b[0msplit\u001b[0m\u001b[0;34m(\u001b[0m\u001b[0;34m\",\"\u001b[0m\u001b[0;34m)\u001b[0m\u001b[0;34m\u001b[0m\u001b[0m\n\u001b[0;32m---> 11\u001b[0;31m         \u001b[0mfa2\u001b[0m \u001b[0;34m=\u001b[0m \u001b[0mnp\u001b[0m\u001b[0;34m.\u001b[0m\u001b[0mappend\u001b[0m\u001b[0;34m(\u001b[0m\u001b[0mfa2\u001b[0m\u001b[0;34m,\u001b[0m \u001b[0ma2\u001b[0m\u001b[0;34m)\u001b[0m\u001b[0;34m\u001b[0m\u001b[0m\n\u001b[0m\u001b[1;32m     12\u001b[0m \u001b[0mfr2\u001b[0m \u001b[0;34m=\u001b[0m \u001b[0;34m[\u001b[0m\u001b[0;34m]\u001b[0m\u001b[0;34m\u001b[0m\u001b[0m\n\u001b[1;32m     13\u001b[0m \u001b[0;32mfor\u001b[0m \u001b[0mi\u001b[0m \u001b[0;32min\u001b[0m \u001b[0mrange\u001b[0m\u001b[0;34m(\u001b[0m\u001b[0mfa2\u001b[0m\u001b[0;34m.\u001b[0m\u001b[0mshape\u001b[0m\u001b[0;34m[\u001b[0m\u001b[0;36m0\u001b[0m\u001b[0;34m]\u001b[0m\u001b[0;34m)\u001b[0m\u001b[0;34m:\u001b[0m\u001b[0;34m\u001b[0m\u001b[0m\n",
      "\u001b[0;32m<__array_function__ internals>\u001b[0m in \u001b[0;36mappend\u001b[0;34m(*args, **kwargs)\u001b[0m\n",
      "\u001b[0;32m~/.pyenv/versions/3.6.1/lib/python3.6/site-packages/numpy/lib/function_base.py\u001b[0m in \u001b[0;36mappend\u001b[0;34m(arr, values, axis)\u001b[0m\n\u001b[1;32m   4698\u001b[0m         \u001b[0mvalues\u001b[0m \u001b[0;34m=\u001b[0m \u001b[0mravel\u001b[0m\u001b[0;34m(\u001b[0m\u001b[0mvalues\u001b[0m\u001b[0;34m)\u001b[0m\u001b[0;34m\u001b[0m\u001b[0m\n\u001b[1;32m   4699\u001b[0m         \u001b[0maxis\u001b[0m \u001b[0;34m=\u001b[0m \u001b[0marr\u001b[0m\u001b[0;34m.\u001b[0m\u001b[0mndim\u001b[0m\u001b[0;34m-\u001b[0m\u001b[0;36m1\u001b[0m\u001b[0;34m\u001b[0m\u001b[0m\n\u001b[0;32m-> 4700\u001b[0;31m     \u001b[0;32mreturn\u001b[0m \u001b[0mconcatenate\u001b[0m\u001b[0;34m(\u001b[0m\u001b[0;34m(\u001b[0m\u001b[0marr\u001b[0m\u001b[0;34m,\u001b[0m \u001b[0mvalues\u001b[0m\u001b[0;34m)\u001b[0m\u001b[0;34m,\u001b[0m \u001b[0maxis\u001b[0m\u001b[0;34m=\u001b[0m\u001b[0maxis\u001b[0m\u001b[0;34m)\u001b[0m\u001b[0;34m\u001b[0m\u001b[0m\n\u001b[0m\u001b[1;32m   4701\u001b[0m \u001b[0;34m\u001b[0m\u001b[0m\n\u001b[1;32m   4702\u001b[0m \u001b[0;34m\u001b[0m\u001b[0m\n",
      "\u001b[0;32m<__array_function__ internals>\u001b[0m in \u001b[0;36mconcatenate\u001b[0;34m(*args, **kwargs)\u001b[0m\n",
      "\u001b[0;31mKeyboardInterrupt\u001b[0m: "
     ]
    }
   ],
   "source": [
    "f2_np =[]\n",
    "fa2 = []\n",
    "for i in range(100):\n",
    "    f2 = open(files2[i])\n",
    "    f2_array = f2.read().split()\n",
    "    f2_np = np.append(f2_np, f2_array)\n",
    "    print(f2_np.shape)\n",
    "    for j in range(1000):\n",
    "        a2 = f2_np[j].split(\",\")\n",
    "        fa2 = np.append(fa2, a2)\n",
    "fr2 = []\n",
    "for i in range(fa2.shape[0]):\n",
    "    fr2 = np.append(fr2,float(fa2[i]))"
   ]
  },
  {
   "cell_type": "code",
   "execution_count": 39,
   "metadata": {},
   "outputs": [
    {
     "name": "stdout",
     "output_type": "stream",
     "text": [
      "['0.0,1074' '0.01,1068' '0.02,1064' '0.03,1049' '0.04,1038' '0.05,1007'\n",
      " '0.06,1019' '0.07,1026' '0.08,1028' '0.09,1024' '0.1,1029' '0.11,1035'\n",
      " '0.12,1016' '0.13,1026' '0.14,1014' '0.15,1055' '0.16,1088' '0.17,1143'\n",
      " '0.18,1220' '0.19,1243' '0.2,1297' '0.21,1364' '0.22,1344' '0.23,1398'\n",
      " '0.24,1429' '0.25,1471' '0.26,1547' '0.27,1580' '0.28,1616' '0.29,1692'\n",
      " '0.3,1688' '0.31,1641' '0.32,1633' '0.33,1555' '0.34,1502' '0.35,1445'\n",
      " '0.36,1431' '0.37,1456' '0.38,1439' '0.39,1453' '0.4,1488' '0.41,1468'\n",
      " '0.42,1459' '0.43,1518' '0.44,1521' '0.45,1564' '0.46,1487' '0.47,1452'\n",
      " '0.48,1425' '0.49,1403' '0.5,1397' '0.51,1388' '0.52,1495' '0.53,1640'\n",
      " '0.54,1625' '0.55,1572' '0.56,1570' '0.57,1604' '0.58,1570' '0.59,1608'\n",
      " '0.6,1532' '0.61,1518' '0.62,1481' '0.63,1516' '0.64,1609' '0.65,1646'\n",
      " '0.66,1620' '0.67,1540' '0.68,1480' '0.69,1499' '0.7,1500' '0.71,1497'\n",
      " '0.72,1522' '0.73,1504' '0.74,1452' '0.75,1372' '0.76,1328' '0.77,1258'\n",
      " '0.78,1238' '0.79,1220' '0.8,1268' '0.81,1360' '0.82,1356' '0.83,1318'\n",
      " '0.84,1254' '0.85,1228' '0.86,1191' '0.87,1162' '0.88,1159' '0.89,1196'\n",
      " '0.9,1180' '0.91,1155' '0.92,1158' '0.93,1137' '0.94,1152' '0.95,1198'\n",
      " '0.96,1216' '0.97,1320' '0.98,1326' '0.99,1373']\n"
     ]
    },
    {
     "ename": "IndexError",
     "evalue": "index 100 is out of bounds for axis 0 with size 100",
     "output_type": "error",
     "traceback": [
      "\u001b[0;31m---------------------------------------------------------------------------\u001b[0m",
      "\u001b[0;31mIndexError\u001b[0m                                Traceback (most recent call last)",
      "\u001b[0;32m<ipython-input-39-aacc35c4207b>\u001b[0m in \u001b[0;36m<module>\u001b[0;34m\u001b[0m\n\u001b[1;32m      7\u001b[0m     \u001b[0mprint\u001b[0m\u001b[0;34m(\u001b[0m\u001b[0mf3_np\u001b[0m\u001b[0;34m)\u001b[0m\u001b[0;34m\u001b[0m\u001b[0m\n\u001b[1;32m      8\u001b[0m     \u001b[0;32mfor\u001b[0m \u001b[0mj\u001b[0m \u001b[0;32min\u001b[0m \u001b[0mrange\u001b[0m\u001b[0;34m(\u001b[0m\u001b[0;36m0\u001b[0m\u001b[0;34m,\u001b[0m\u001b[0;36m999\u001b[0m\u001b[0;34m)\u001b[0m\u001b[0;34m:\u001b[0m\u001b[0;34m\u001b[0m\u001b[0m\n\u001b[0;32m----> 9\u001b[0;31m         \u001b[0ma3\u001b[0m \u001b[0;34m=\u001b[0m \u001b[0mf3_np\u001b[0m\u001b[0;34m[\u001b[0m\u001b[0mj\u001b[0m\u001b[0;34m]\u001b[0m\u001b[0;34m.\u001b[0m\u001b[0msplit\u001b[0m\u001b[0;34m(\u001b[0m\u001b[0;34m\",\"\u001b[0m\u001b[0;34m)\u001b[0m\u001b[0;34m\u001b[0m\u001b[0m\n\u001b[0m\u001b[1;32m     10\u001b[0m         \u001b[0mfa3\u001b[0m \u001b[0;34m=\u001b[0m \u001b[0mnp\u001b[0m\u001b[0;34m.\u001b[0m\u001b[0mappend\u001b[0m\u001b[0;34m(\u001b[0m\u001b[0mfa3\u001b[0m\u001b[0;34m,\u001b[0m \u001b[0ma3\u001b[0m\u001b[0;34m)\u001b[0m\u001b[0;34m\u001b[0m\u001b[0m\n\u001b[1;32m     11\u001b[0m \u001b[0mfr3\u001b[0m \u001b[0;34m=\u001b[0m \u001b[0;34m[\u001b[0m\u001b[0;34m]\u001b[0m\u001b[0;34m\u001b[0m\u001b[0m\n",
      "\u001b[0;31mIndexError\u001b[0m: index 100 is out of bounds for axis 0 with size 100"
     ]
    }
   ],
   "source": [
    "f3_np =[]\n",
    "fa3 = []\n",
    "for i in range(0,100):\n",
    "    f3 = open(files3[i])\n",
    "    f3_array = f3.read().split()\n",
    "    f3_np = np.append(f3_np, f3_array)\n",
    "    print(f3_np)\n",
    "    for j in range(0,999):\n",
    "        a3 = f3_np[j].split(\",\")\n",
    "        fa3 = np.append(fa3, a3)\n",
    "fr3 = []\n",
    "fa3 = np.array(fa3)\n",
    "fr3 = np.array(fr3)\n",
    "for k in range(fa3.shape[0]):\n",
    "    fr3 = np.append(fr3,float(fa3[k]))\n",
    "fist = fr3.reshape(100,1000,2)"
   ]
  },
  {
   "cell_type": "code",
   "execution_count": null,
   "metadata": {},
   "outputs": [],
   "source": [
    "x_train = []\n",
    "for i in range(0,70):\n",
    "    x_train = np.append(x_train, inside[i])\n",
    "    x_train = np.append(x_train, outside[i])\n",
    "    x_train = np.append(x_train, fist[i])\n",
    "x_test = []\n",
    "for j in range(70,100):\n",
    "    x_test = np.append(x_test, inside[j])\n",
    "    x_test = np.append(x_test, outside[j])\n",
    "    x_test = np.append(x_test, fist[j])"
   ]
  },
  {
   "cell_type": "code",
   "execution_count": null,
   "metadata": {},
   "outputs": [],
   "source": [
    "x_train = x_train.reshape(210,1000,2)\n",
    "x_test = x_test.reshape(90,1000,2)\n",
    "y_train = np.array([0,1,2]*70)\n",
    "y_test = np.array([0,1,2]*30)"
   ]
  },
  {
   "cell_type": "code",
   "execution_count": null,
   "metadata": {},
   "outputs": [],
   "source": [
    "import numpy as np\n",
    "from scipy.fftpack import fft\n",
    "import matplotlib.pyplot as plt"
   ]
  },
  {
   "cell_type": "code",
   "execution_count": null,
   "metadata": {},
   "outputs": [],
   "source": [
    "X_train = np.zeros((210,1000))\n",
    "for i in range(210):\n",
    "    for j in range(1000):\n",
    "        X_train_pre = x_train[i][j][1]\n",
    "#         print(X_train_pre)\n",
    "        X_train[i][j] = X_train_pre\n",
    "\n",
    "X_test = np.zeros((90,1000))\n",
    "for i in range(90):\n",
    "    for j in range(1000):\n",
    "        X_test_pre = x_test[i][j][1]\n",
    "#         print(X_train_pre)\n",
    "        X_test[i][j] = X_test_pre"
   ]
  },
  {
   "cell_type": "code",
   "execution_count": null,
   "metadata": {},
   "outputs": [],
   "source": [
    "def wave_plot_fft(f):\n",
    "    N =  1000\n",
    "    dt = 0.01\n",
    "    freq = np.linspace(0, 1.0/dt, N)\n",
    "    yf = f/(N/2)\n",
    "    \n",
    "    plt.figure(2)\n",
    "    plt.plot(freq, np.abs(yf))\n",
    "    plt.xlabel('frequency')\n",
    "    plt.ylabel('amplitude')\n",
    "    plt.tight_layout()\n",
    "    plt.show()"
   ]
  },
  {
   "cell_type": "code",
   "execution_count": null,
   "metadata": {},
   "outputs": [],
   "source": [
    "wave_plot_fft(X_train[0])\n",
    "wave_plot_fft(X_train[3])\n",
    "wave_plot_fft(X_train[6])"
   ]
  },
  {
   "cell_type": "code",
   "execution_count": null,
   "metadata": {},
   "outputs": [],
   "source": [
    "x_train_pre = []\n",
    "for i in range(210):\n",
    "    x_train_pre = np.append(x_train_pre,fft(X_train[i]))\n",
    "\n",
    "X_train_fft = x_train_pre.reshape(210,1000)\n",
    "x_test_pre = []\n",
    "for i in range(90):\n",
    "    x_test_pre = np.append(x_test_pre,fft(X_test[i]))\n",
    "\n",
    "X_test_fft = x_test_pre.reshape(90,1000)"
   ]
  },
  {
   "cell_type": "code",
   "execution_count": null,
   "metadata": {},
   "outputs": [],
   "source": [
    "import keras\n",
    "from keras.models import Model, Sequential\n",
    "from keras.layers import Dense, Dropout, Activation, Flatten, Input\n",
    "from keras.layers import BatchNormalization, Add\n",
    "from keras.layers.convolutional import Conv1D, MaxPooling1D\n",
    "from keras.layers.pooling import MaxPool1D\n",
    "from keras.callbacks import EarlyStopping, ModelCheckpoint"
   ]
  },
  {
   "cell_type": "code",
   "execution_count": null,
   "metadata": {},
   "outputs": [],
   "source": [
    "batch_size = 64\n",
    "num_classes = 3\n",
    "epochs = 50"
   ]
  },
  {
   "cell_type": "code",
   "execution_count": null,
   "metadata": {},
   "outputs": [],
   "source": [
    "X_train_tf = np.reshape(X_train_fft, (X_train_fft.shape[0], -1, 1))\n",
    "X_test_tf = np.reshape(X_test_fft, (X_test_fft.shape[0], -1, 1))"
   ]
  },
  {
   "cell_type": "code",
   "execution_count": null,
   "metadata": {},
   "outputs": [],
   "source": [
    "y_train_tf = keras.utils.to_categorical(y_train, num_classes)\n",
    "y_test_tf = keras.utils.to_categorical(y_test, num_classes)"
   ]
  },
  {
   "cell_type": "code",
   "execution_count": null,
   "metadata": {},
   "outputs": [],
   "source": [
    "model = Sequential()\n",
    "\n",
    "model.add(Conv1D(filters=128, input_shape=(X_train_fft.shape[1],1), kernel_size=2, strides=1, padding='same'))\n",
    "model.add(BatchNormalization())\n",
    "model.add(MaxPool1D(pool_size=2))\n",
    "model.add(Activation('relu'))\n",
    "\n",
    "model.add(Conv1D(filters=128, kernel_size=2, strides=1, padding='same'))\n",
    "model.add(BatchNormalization())\n",
    "model.add(MaxPool1D(pool_size=2))\n",
    "model.add(Activation('relu'))\n",
    "\n",
    "model.add(Conv1D(filters=128, kernel_size=2, strides=1, padding='same'))\n",
    "model.add(BatchNormalization())\n",
    "model.add(MaxPool1D(pool_size=2))\n",
    "model.add(Activation('relu'))\n",
    "\n",
    "model.add(Flatten())\n",
    "model.add(Dense(512))\n",
    "model.add(Activation('relu'))\n",
    "model.add(Dropout(0.5))\n",
    "model.add(Dense(num_classes))\n",
    "model.add(Activation('softmax'))\n",
    "\n",
    "opt = keras.optimizers.rmsprop()\n",
    "model.compile(loss = 'categorical_crossentropy',\n",
    "              optimizer = opt,\n",
    "              metrics = ['accuracy'])"
   ]
  },
  {
   "cell_type": "code",
   "execution_count": null,
   "metadata": {},
   "outputs": [],
   "source": [
    "es = EarlyStopping(monitor='val_loss', patience=5, verbose=0, mode='min')"
   ]
  },
  {
   "cell_type": "code",
   "execution_count": null,
   "metadata": {},
   "outputs": [],
   "source": [
    "history_fft = model.fit(X_train_tf, y_train_tf,\n",
    "                       batch_size = batch_size,\n",
    "                       epochs = epochs,\n",
    "                       verbose =1,\n",
    "                       validation_data = (X_test_tf, y_test_tf),\n",
    "                       callbacks = [es])"
   ]
  },
  {
   "cell_type": "code",
   "execution_count": null,
   "metadata": {},
   "outputs": [],
   "source": [
    "score = model.evaluate(X_test_tf, y_test_tf, verbose=0)\n",
    "print('Test loss:', score[0])\n",
    "print('Test accuracy:', score[1])"
   ]
  },
  {
   "cell_type": "code",
   "execution_count": null,
   "metadata": {},
   "outputs": [],
   "source": [
    "def plot_history_lost(history):\n",
    "    plt.plot(history.history['loss'], label='loss for training')\n",
    "    plt.plot(history.history['val_loss'], label='loss for validation')\n",
    "    plt.title('model loss')\n",
    "    plt.xlabel('epoch')\n",
    "    plt.ylabel('loss')\n",
    "    plt.legend(loc='best')\n",
    "    plt.show()\n",
    "    \n",
    "def plot_history_acc(history):\n",
    "    plt.plot(history.history['acc'], label='accuracy for training')\n",
    "    plt.plot(history.history['val_acc'], label='accuracy for validation')\n",
    "    plt.title('model accuracy')\n",
    "    plt.xlabel('epoch')\n",
    "    plt.ylabel('accuracy')\n",
    "    plt.legend(loc='best')\n",
    "    plt.ylim([0,1])\n",
    "    plt.show()\n",
    "    \n",
    "plot_history_lost(history_fft)\n",
    "plot_history_acc(history_fft)"
   ]
  },
  {
   "cell_type": "code",
   "execution_count": null,
   "metadata": {},
   "outputs": [],
   "source": [
    " "
   ]
  }
 ],
 "metadata": {
  "kernelspec": {
   "display_name": "Python 3",
   "language": "python",
   "name": "python3"
  },
  "language_info": {
   "codemirror_mode": {
    "name": "ipython",
    "version": 3
   },
   "file_extension": ".py",
   "mimetype": "text/x-python",
   "name": "python",
   "nbconvert_exporter": "python",
   "pygments_lexer": "ipython3",
   "version": "3.6.1"
  }
 },
 "nbformat": 4,
 "nbformat_minor": 4
}
